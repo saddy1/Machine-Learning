{
 "cells": [
  {
   "cell_type": "code",
   "execution_count": 1,
   "metadata": {},
   "outputs": [],
   "source": [
    "import os\n",
    "import numpy as np\n",
    "import cv2\n",
    "import matplotlib.pyplot as pt\n",
    "import pickle # it is used to deal with file\n",
    "import random\n",
    "from sklearn.model_selection import train_test_split\n",
    "from sklearn.svm import SVC"
   ]
  },
  {
   "cell_type": "code",
   "execution_count": 2,
   "metadata": {},
   "outputs": [],
   "source": [
    "dir = '/home/saddy/python/data'\n",
    "categories = ['cats','dogs']\n",
    "data = []\n",
    "for category in categories:\n",
    "    path=os.path.join(dir,category) # It join category which is cat and dog in  path\n",
    "    label = categories.index(category) # it give label of categories i.e 1 and 0\n",
    "    \n",
    "\n",
    "    for pic in os.listdir(path):\n",
    "        imgpath = os.path.join(path,pic) # it gives path of image\n",
    "        img = cv2.imread(imgpath,0)\n",
    "        try:\n",
    "           img = cv2.resize(img,(50,50))\n",
    "           image = np.array(img).flatten() # conversion of 2D array in 1D\n",
    "           data.append([image,label])  # 9\n",
    "        except Exception as e:\n",
    "            pass\n",
    "\n",
    "       \n",
    "    \n",
    "file = open('data.pickle','wb')\n",
    "pickle.dump(data,file)\n",
    "file.close\n",
    "cv2.waitKey(0)\n",
    "cv2.destroyAllWindows()"
   ]
  },
  {
   "cell_type": "code",
   "execution_count": 6,
   "metadata": {},
   "outputs": [
    {
     "data": {
      "text/plain": [
       "<function BufferedReader.close>"
      ]
     },
     "execution_count": 6,
     "metadata": {},
     "output_type": "execute_result"
    }
   ],
   "source": [
    "file = open('data.pickle','rb')\n",
    "data = pickle.load(file)\n",
    "file.close"
   ]
  },
  {
   "cell_type": "code",
   "execution_count": 30,
   "metadata": {},
   "outputs": [],
   "source": [
    "random.shuffle(data)\n",
    "features=[]\n",
    "labels = []\n",
    "\n",
    "for feature,label in data:\n",
    "    features.append(feature)\n",
    "    labels.append(label)\n",
    "\n",
    "xtrain,xtest,ytrain,ytest = train_test_split(features,labels,test_size=0.20)\n",
    "# creating Model\n",
    "\n",
    "model = SVC(C=10,kernel='poly',gamma='auto')"
   ]
  },
  {
   "cell_type": "code",
   "execution_count": 31,
   "metadata": {},
   "outputs": [
    {
     "data": {
      "text/plain": [
       "SVC(C=10, gamma='auto', kernel='poly')"
      ]
     },
     "execution_count": 31,
     "metadata": {},
     "output_type": "execute_result"
    }
   ],
   "source": [
    "model.fit(xtrain, ytrain)\n"
   ]
  },
  {
   "cell_type": "code",
   "execution_count": 32,
   "metadata": {},
   "outputs": [
    {
     "name": "stdout",
     "output_type": "stream",
     "text": [
      "accuracy :  0.5111111111111111\n",
      "prediction is :  cats\n"
     ]
    },
    {
     "data": {
      "text/plain": [
       "<function matplotlib.pyplot.show(*args, **kw)>"
      ]
     },
     "execution_count": 32,
     "metadata": {},
     "output_type": "execute_result"
    },
    {
     "data": {
      "image/png": "[encoded data removed]",
      "text/plain": [
       "<Figure size 432x288 with 1 Axes>"
      ]
     },
     "metadata": {
      "needs_background": "light"
     },
     "output_type": "display_data"
    }
   ],
   "source": [
    "predict = model.predict(xtest)\n",
    "accuracy = model.score(xtest, ytest)\n",
    "categories = ['cats', 'dogs']\n",
    "print('accuracy : ', accuracy)\n",
    "print('prediction is : ', categories[predict[3]])\n",
    "mypet = xtest[3].reshape(50,50)\n",
    "pt.imshow(mypet, cmap= 'gray')\n",
    "pt.show"
   ]
  },
  {
   "cell_type": "code",
   "execution_count": null,
   "metadata": {},
   "outputs": [],
   "source": []
  },
  {
   "cell_type": "code",
   "execution_count": null,
   "metadata": {},
   "outputs": [],
   "source": []
  }
 ],
 "metadata": {
  "interpreter": {
   "hash": "916dbcbb3f70747c44a77c7bcd40155683ae19c65e1c03b4aa3499c5328201f1"
  },
  "kernelspec": {
   "display_name": "Python 3.8.10 64-bit",
   "language": "python",
   "name": "python3"
  },
  "language_info": {
   "codemirror_mode": {
    "name": "ipython",
    "version": 3
   },
   "file_extension": ".py",
   "mimetype": "text/x-python",
   "name": "python",
   "nbconvert_exporter": "python",
   "pygments_lexer": "ipython3",
   "version": "3.8.10"
  },
  "orig_nbformat": 4
 },
 "nbformat": 4,
 "nbformat_minor": 2
}
